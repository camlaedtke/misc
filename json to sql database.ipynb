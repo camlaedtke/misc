{
 "cells": [
  {
   "cell_type": "markdown",
   "metadata": {},
   "source": [
    "# Converting large json files to a SQL database"
   ]
  },
  {
   "cell_type": "code",
   "execution_count": null,
   "metadata": {},
   "outputs": [],
   "source": [
    "import json\n",
    "import sqlite3\n",
    "import pandas as pd\n",
    "import sqlalchemy\n",
    "from sqlalchemy import create_engine\n",
    "from io import StringIO"
   ]
  },
  {
   "cell_type": "markdown",
   "metadata": {},
   "source": [
    "Dataset contains 71,826,552 comments"
   ]
  },
  {
   "cell_type": "code",
   "execution_count": null,
   "metadata": {},
   "outputs": [],
   "source": [
    "json_database = create_engine('sqlite:///json_database.db')"
   ]
  },
  {
   "cell_type": "code",
   "execution_count": null,
   "metadata": {
    "scrolled": true
   },
   "outputs": [],
   "source": [
    "batch_no=1\n",
    "\n",
    "for chunk in pd.read_json(\"data/RC_2016-10_10M_20M_line_delim.json\",chunksize=10000,lines=True):\n",
    "    try: \n",
    "        chunk.to_sql('chunk_sql', json_database, if_exists='append')\n",
    "    except sqlalchemy.exc.SQLAlchemyError as e: \n",
    "        print(\"\\n  {}\".format(e.orig))\n",
    "    print('\\rindex: {}'.format(batch_no), end='')\n",
    "    batch_no+=1"
   ]
  },
  {
   "cell_type": "code",
   "execution_count": null,
   "metadata": {},
   "outputs": [],
   "source": [
    "# df_new = pd.read_sql_query('SELECT * FROM chunk_sql', json_database)\n",
    "# df_new"
   ]
  },
  {
   "cell_type": "code",
   "execution_count": null,
   "metadata": {},
   "outputs": [],
   "source": [
    "def extract_comments(filepath, limit=None, links_only=False):\n",
    "    comments = []\n",
    "    with open(filepath) as fp:\n",
    "        for idx, line in enumerate(fp):\n",
    "            if (limit is not None) and (idx == limit):\n",
    "                break\n",
    "            comment = json.loads(line)\n",
    "            if links_only:\n",
    "                if 'https' in comment['body']:\n",
    "                    comments.append(comment)\n",
    "            else:\n",
    "                comments.append(comment)\n",
    "        return comments\n",
    "    \n",
    "    \n",
    "def extract_subset(filepath, start=0, end=10):\n",
    "    comments = []\n",
    "    with open(filepath) as fp:\n",
    "        for idx, line in enumerate(fp):\n",
    "            if (idx >= start) and (idx < end):\n",
    "                comment = json.loads(line)\n",
    "                comments.append(comment)\n",
    "            elif idx >= end:\n",
    "                break                \n",
    "        return comments"
   ]
  },
  {
   "cell_type": "code",
   "execution_count": null,
   "metadata": {},
   "outputs": [],
   "source": [
    "# comments = extract_comments(filepath='data/RC_2016-10.json', limit=1000, links_only=False)\n",
    "comments = extract_subset(filepath='data/RC_2016-10.json', start=10000000, end=20000000)"
   ]
  },
  {
   "cell_type": "code",
   "execution_count": null,
   "metadata": {},
   "outputs": [],
   "source": [
    "df = pd.DataFrame(comments)\n",
    "df.head()"
   ]
  },
  {
   "cell_type": "code",
   "execution_count": null,
   "metadata": {},
   "outputs": [],
   "source": [
    "len(df)"
   ]
  },
  {
   "cell_type": "code",
   "execution_count": null,
   "metadata": {},
   "outputs": [],
   "source": [
    "# df.to_pickle(\"RC_2016-10.pkl\")\n",
    "df.to_json(\"data/RC_2016-10_10M_20M_line_delim.json\", orient='records', lines=True)"
   ]
  },
  {
   "cell_type": "code",
   "execution_count": null,
   "metadata": {},
   "outputs": [],
   "source": []
  }
 ],
 "metadata": {
  "kernelspec": {
   "display_name": "Python 3",
   "language": "python",
   "name": "python3"
  },
  "language_info": {
   "codemirror_mode": {
    "name": "ipython",
    "version": 3
   },
   "file_extension": ".py",
   "mimetype": "text/x-python",
   "name": "python",
   "nbconvert_exporter": "python",
   "pygments_lexer": "ipython3",
   "version": "3.7.7"
  }
 },
 "nbformat": 4,
 "nbformat_minor": 4
}
